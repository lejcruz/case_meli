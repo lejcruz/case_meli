{
 "cells": [
  {
   "cell_type": "code",
   "execution_count": 1,
   "metadata": {},
   "outputs": [],
   "source": [
    "# sys packages\n",
    "import os\n",
    "import sys\n",
    "import warnings\n",
    "warnings.filterwarnings(\"ignore\")\n",
    "\n",
    "sys.path.append('../src')\n",
    "\n",
    "# data manipulation\n",
    "import pandas as pd\n",
    "import imblearn\n",
    "\n",
    "# sckit-learn\n",
    "from sklearn.model_selection import train_test_split\n",
    "\n",
    "\n",
    "# Viz packages\n",
    "import matplotlib.pyplot as plt\n",
    "import seaborn as sns\n",
    "\n",
    "import utils\n",
    "\n",
    "%matplotlib inline\n"
   ]
  },
  {
   "cell_type": "code",
   "execution_count": 2,
   "metadata": {},
   "outputs": [],
   "source": [
    "# MACRO VARIABLES\n",
    "\n",
    "INPUT_DIR = '../inputs/'\n",
    "\n",
    "INPUT_DATA = 'dados.csv'\n",
    "\n",
    "# Out of time length in days\n",
    "OFT_LEN = 7\n",
    "\n",
    "# Train Test Size\n",
    "\n",
    "TRAIN_TEST_LEN = 0.3\n",
    "\n",
    "# RANDOM STATE\n",
    "SEED = 395\n",
    "\n",
    "YNAME = 'fraude'"
   ]
  },
  {
   "cell_type": "markdown",
   "metadata": {},
   "source": [
    "#### Import Data"
   ]
  },
  {
   "cell_type": "code",
   "execution_count": 3,
   "metadata": {},
   "outputs": [
    {
     "data": {
      "text/html": [
       "<div>\n",
       "<style scoped>\n",
       "    .dataframe tbody tr th:only-of-type {\n",
       "        vertical-align: middle;\n",
       "    }\n",
       "\n",
       "    .dataframe tbody tr th {\n",
       "        vertical-align: top;\n",
       "    }\n",
       "\n",
       "    .dataframe thead th {\n",
       "        text-align: right;\n",
       "    }\n",
       "</style>\n",
       "<table border=\"1\" class=\"dataframe\">\n",
       "  <thead>\n",
       "    <tr style=\"text-align: right;\">\n",
       "      <th></th>\n",
       "      <th>a</th>\n",
       "      <th>b</th>\n",
       "      <th>c</th>\n",
       "      <th>d</th>\n",
       "      <th>e</th>\n",
       "      <th>f</th>\n",
       "      <th>g</th>\n",
       "      <th>h</th>\n",
       "      <th>i</th>\n",
       "      <th>j</th>\n",
       "      <th>k</th>\n",
       "      <th>l</th>\n",
       "      <th>m</th>\n",
       "      <th>n</th>\n",
       "      <th>o</th>\n",
       "      <th>p</th>\n",
       "      <th>fecha</th>\n",
       "      <th>monto</th>\n",
       "      <th>score</th>\n",
       "      <th>fraude</th>\n",
       "    </tr>\n",
       "  </thead>\n",
       "  <tbody>\n",
       "    <tr>\n",
       "      <th>0</th>\n",
       "      <td>4</td>\n",
       "      <td>0.7685</td>\n",
       "      <td>94436.24</td>\n",
       "      <td>20.0</td>\n",
       "      <td>0.444828</td>\n",
       "      <td>1.0</td>\n",
       "      <td>BR</td>\n",
       "      <td>5</td>\n",
       "      <td>Máquininha Corta Barba Cabelo Peito Perna Pelo...</td>\n",
       "      <td>cat_8d714cd</td>\n",
       "      <td>0.883598</td>\n",
       "      <td>240.0</td>\n",
       "      <td>102.0</td>\n",
       "      <td>1</td>\n",
       "      <td>NaN</td>\n",
       "      <td>N</td>\n",
       "      <td>2020-03-27 11:51:16</td>\n",
       "      <td>5.64</td>\n",
       "      <td>66</td>\n",
       "      <td>0</td>\n",
       "    </tr>\n",
       "    <tr>\n",
       "      <th>1</th>\n",
       "      <td>4</td>\n",
       "      <td>0.7550</td>\n",
       "      <td>9258.50</td>\n",
       "      <td>1.0</td>\n",
       "      <td>0.000000</td>\n",
       "      <td>33.0</td>\n",
       "      <td>BR</td>\n",
       "      <td>0</td>\n",
       "      <td>Avental Descartavel Manga Longa  - 50 Un. Tnt ...</td>\n",
       "      <td>cat_64b574b</td>\n",
       "      <td>0.376019</td>\n",
       "      <td>4008.0</td>\n",
       "      <td>0.0</td>\n",
       "      <td>1</td>\n",
       "      <td>Y</td>\n",
       "      <td>N</td>\n",
       "      <td>2020-04-15 19:58:08</td>\n",
       "      <td>124.71</td>\n",
       "      <td>72</td>\n",
       "      <td>0</td>\n",
       "    </tr>\n",
       "    <tr>\n",
       "      <th>2</th>\n",
       "      <td>4</td>\n",
       "      <td>0.7455</td>\n",
       "      <td>242549.09</td>\n",
       "      <td>3.0</td>\n",
       "      <td>0.000000</td>\n",
       "      <td>19.0</td>\n",
       "      <td>AR</td>\n",
       "      <td>23</td>\n",
       "      <td>Bicicleta Mountain Fire Bird Rodado 29 Alumini...</td>\n",
       "      <td>cat_e9110c5</td>\n",
       "      <td>0.516368</td>\n",
       "      <td>1779.0</td>\n",
       "      <td>77.0</td>\n",
       "      <td>1</td>\n",
       "      <td>NaN</td>\n",
       "      <td>N</td>\n",
       "      <td>2020-03-25 18:13:38</td>\n",
       "      <td>339.32</td>\n",
       "      <td>95</td>\n",
       "      <td>0</td>\n",
       "    </tr>\n",
       "    <tr>\n",
       "      <th>3</th>\n",
       "      <td>4</td>\n",
       "      <td>0.7631</td>\n",
       "      <td>18923.90</td>\n",
       "      <td>50.0</td>\n",
       "      <td>0.482385</td>\n",
       "      <td>18.0</td>\n",
       "      <td>BR</td>\n",
       "      <td>23</td>\n",
       "      <td>Caneta Delineador Carimbo Olho Gatinho Longo 2...</td>\n",
       "      <td>cat_d06e653</td>\n",
       "      <td>0.154036</td>\n",
       "      <td>1704.0</td>\n",
       "      <td>1147.0</td>\n",
       "      <td>1</td>\n",
       "      <td>NaN</td>\n",
       "      <td>Y</td>\n",
       "      <td>2020-04-16 16:03:10</td>\n",
       "      <td>3.54</td>\n",
       "      <td>2</td>\n",
       "      <td>0</td>\n",
       "    </tr>\n",
       "    <tr>\n",
       "      <th>4</th>\n",
       "      <td>2</td>\n",
       "      <td>0.7315</td>\n",
       "      <td>5728.68</td>\n",
       "      <td>15.0</td>\n",
       "      <td>0.000000</td>\n",
       "      <td>1.0</td>\n",
       "      <td>BR</td>\n",
       "      <td>2</td>\n",
       "      <td>Resident Evil Operation Raccoon City Ps3</td>\n",
       "      <td>cat_6c4cfdc</td>\n",
       "      <td>0.855798</td>\n",
       "      <td>1025.0</td>\n",
       "      <td>150.0</td>\n",
       "      <td>1</td>\n",
       "      <td>NaN</td>\n",
       "      <td>N</td>\n",
       "      <td>2020-04-02 10:24:45</td>\n",
       "      <td>3.53</td>\n",
       "      <td>76</td>\n",
       "      <td>0</td>\n",
       "    </tr>\n",
       "  </tbody>\n",
       "</table>\n",
       "</div>"
      ],
      "text/plain": [
       "   a       b          c     d         e     f   g   h  \\\n",
       "0  4  0.7685   94436.24  20.0  0.444828   1.0  BR   5   \n",
       "1  4  0.7550    9258.50   1.0  0.000000  33.0  BR   0   \n",
       "2  4  0.7455  242549.09   3.0  0.000000  19.0  AR  23   \n",
       "3  4  0.7631   18923.90  50.0  0.482385  18.0  BR  23   \n",
       "4  2  0.7315    5728.68  15.0  0.000000   1.0  BR   2   \n",
       "\n",
       "                                                   i            j         k  \\\n",
       "0  Máquininha Corta Barba Cabelo Peito Perna Pelo...  cat_8d714cd  0.883598   \n",
       "1  Avental Descartavel Manga Longa  - 50 Un. Tnt ...  cat_64b574b  0.376019   \n",
       "2  Bicicleta Mountain Fire Bird Rodado 29 Alumini...  cat_e9110c5  0.516368   \n",
       "3  Caneta Delineador Carimbo Olho Gatinho Longo 2...  cat_d06e653  0.154036   \n",
       "4           Resident Evil Operation Raccoon City Ps3  cat_6c4cfdc  0.855798   \n",
       "\n",
       "        l       m  n    o  p                fecha   monto  score  fraude  \n",
       "0   240.0   102.0  1  NaN  N  2020-03-27 11:51:16    5.64     66       0  \n",
       "1  4008.0     0.0  1    Y  N  2020-04-15 19:58:08  124.71     72       0  \n",
       "2  1779.0    77.0  1  NaN  N  2020-03-25 18:13:38  339.32     95       0  \n",
       "3  1704.0  1147.0  1  NaN  Y  2020-04-16 16:03:10    3.54      2       0  \n",
       "4  1025.0   150.0  1  NaN  N  2020-04-02 10:24:45    3.53     76       0  "
      ]
     },
     "execution_count": 3,
     "metadata": {},
     "output_type": "execute_result"
    }
   ],
   "source": [
    "original_df = pd.read_csv(os.path.join(INPUT_DIR, INPUT_DATA), decimal='.')\n",
    "original_df.head()"
   ]
  },
  {
   "cell_type": "markdown",
   "metadata": {},
   "source": [
    "#### Train, Test and Out-Of-Time samples"
   ]
  },
  {
   "cell_type": "code",
   "execution_count": 4,
   "metadata": {},
   "outputs": [],
   "source": [
    "# It seems that 'fecha' is the date that the operation occured, so I'll use it to create a out-of-time sample\n",
    "# First it needed to be converted to a date format\n",
    "df = original_df.copy()\n",
    "\n",
    "df['oper_date'] = pd.to_datetime(df['fecha'])\n",
    "\n",
    "# Year-Month\n",
    "df['oper_YM'] = df['oper_date'].apply(lambda x: x.year * 100 + x.month )\n",
    "\n",
    "# Year-Month-Day\n",
    "df['oper_YMD'] = df['oper_date'].apply(lambda x: (x.year * 100 + x.month)*100 + x.day  )\n"
   ]
  },
  {
   "cell_type": "code",
   "execution_count": 5,
   "metadata": {},
   "outputs": [
    {
     "data": {
      "text/html": [
       "<div>\n",
       "<style scoped>\n",
       "    .dataframe tbody tr th:only-of-type {\n",
       "        vertical-align: middle;\n",
       "    }\n",
       "\n",
       "    .dataframe tbody tr th {\n",
       "        vertical-align: top;\n",
       "    }\n",
       "\n",
       "    .dataframe thead th {\n",
       "        text-align: right;\n",
       "    }\n",
       "</style>\n",
       "<table border=\"1\" class=\"dataframe\">\n",
       "  <thead>\n",
       "    <tr style=\"text-align: right;\">\n",
       "      <th></th>\n",
       "      <th>qt</th>\n",
       "    </tr>\n",
       "    <tr>\n",
       "      <th>oper_YM</th>\n",
       "      <th></th>\n",
       "    </tr>\n",
       "  </thead>\n",
       "  <tbody>\n",
       "    <tr>\n",
       "      <th>202003</th>\n",
       "      <td>76961</td>\n",
       "    </tr>\n",
       "    <tr>\n",
       "      <th>202004</th>\n",
       "      <td>73039</td>\n",
       "    </tr>\n",
       "  </tbody>\n",
       "</table>\n",
       "</div>"
      ],
      "text/plain": [
       "            qt\n",
       "oper_YM       \n",
       "202003   76961\n",
       "202004   73039"
      ]
     },
     "execution_count": 5,
     "metadata": {},
     "output_type": "execute_result"
    }
   ],
   "source": [
    "check_YM_dist = df.groupby('oper_YM').agg(qt=('fecha', len))\n",
    "check_YM_dist\n",
    "\n",
    "# The data has only a sample of 2 months, so its not gonna be a good choice to split a out-of time sample based on month "
   ]
  },
  {
   "cell_type": "code",
   "execution_count": 6,
   "metadata": {},
   "outputs": [
    {
     "data": {
      "text/plain": [
       "<AxesSubplot:xlabel='oper_YMD'>"
      ]
     },
     "execution_count": 6,
     "metadata": {},
     "output_type": "execute_result"
    },
    {
     "data": {
      "image/png": "[encoded data removed]",
      "text/plain": [
       "<Figure size 1008x288 with 1 Axes>"
      ]
     },
     "metadata": {
      "needs_background": "light"
     },
     "output_type": "display_data"
    }
   ],
   "source": [
    "check_YMD_dist = df.groupby('oper_YMD').agg(qt=('fecha', len))\n",
    "check_YMD_dist.plot(kind='bar', figsize=(14,4))\n",
    "\n",
    "# The out-of-sample will be of 7 days(1 week), it ill be set on macro variables cell."
   ]
  },
  {
   "cell_type": "code",
   "execution_count": 7,
   "metadata": {},
   "outputs": [],
   "source": [
    "# Split out of time sample\n",
    "\n",
    "__OutOfTimeMax__ = df['oper_date'].max()\n",
    "__OutOfTimeMin__ = __OutOfTimeMax__ + pd.offsets.DateOffset(days=-OFT_LEN)\n",
    "\n",
    "# This is the dataset tha will be used to evaluate the model\n",
    "outoftime = df.loc[df['oper_date'] >= __OutOfTimeMin__, :]"
   ]
  },
  {
   "cell_type": "code",
   "execution_count": 8,
   "metadata": {},
   "outputs": [],
   "source": [
    "# Create y and X\n",
    "\n",
    "traintest = df.loc[df['oper_date'] < __OutOfTimeMin__, :]\n",
    "\n",
    "y =  traintest[YNAME]\n",
    "\n",
    "__colstodrop__ = ['fecha', 'monto', 'score', 'fraude', 'oper_date', 'oper_YM', 'oper_YMD']\n",
    "X = traintest.drop(columns=__colstodrop__)\n"
   ]
  },
  {
   "cell_type": "code",
   "execution_count": 9,
   "metadata": {},
   "outputs": [],
   "source": [
    "# Split in train test samples\n",
    "\n",
    "X_train, X_test, y_train, y_test = train_test_split(X, y, test_size=TRAIN_TEST_LEN, random_state=SEED)"
   ]
  },
  {
   "cell_type": "markdown",
   "metadata": {},
   "source": [
    "#### Univariate Analysis"
   ]
  },
  {
   "cell_type": "markdown",
   "metadata": {},
   "source": [
    "It's commom to observe imbalanced dataset for fraud detection problems.\n",
    "If it's not handle properly it could result in a misleading model, where the accuracy is high because is more likely that the model will classify all events as a non-fraud.\n",
    "In a model lije that will be a great amount of losses."
   ]
  },
  {
   "cell_type": "code",
   "execution_count": 17,
   "metadata": {},
   "outputs": [
    {
     "name": "stdout",
     "output_type": "stream",
     "text": [
      "fraud_rate 5.145%\n",
      " New fraud_rate 50.000%\n"
     ]
    }
   ],
   "source": [
    "print('fraud_rate {:.3%}'.format(y_train.sum() / len(y_train)))\n",
    "\n",
    "# With this rate I've opted for oversampling\n",
    "\n",
    "# Initialize a object for oversampling with default distribution  of minority class\n",
    "oversample = imblearn.over_sampling.RandomOverSampler(sampling_strategy='minority', random_state=SEED)\n",
    "\n",
    "# Fit Oversample\n",
    "X_train_OS, y_train_OS = oversample.fit_resample(X_train, y_train)\n",
    "\n",
    "print(' New fraud_rate {:.3%}'.format(y_train_OS.sum() / len(y_train_OS)))"
   ]
  },
  {
   "cell_type": "markdown",
   "metadata": {},
   "source": [
    "#### Handle Missing"
   ]
  },
  {
   "cell_type": "code",
   "execution_count": 18,
   "metadata": {},
   "outputs": [
    {
     "data": {
      "text/plain": [
       "<AxesSubplot:>"
      ]
     },
     "execution_count": 18,
     "metadata": {},
     "output_type": "execute_result"
    },
    {
     "data": {
      "image/png": "[encoded data removed]",
      "text/plain": [
       "<Figure size 1008x288 with 1 Axes>"
      ]
     },
     "metadata": {
      "needs_background": "light"
     },
     "output_type": "display_data"
    }
   ],
   "source": [
    "# Handle Missing Data\n",
    "missing_freq = pd.DataFrame(X_train_OS.isna().sum() / X_train_OS.isna().count(), columns='Missing_Rate'.split())\n",
    "missing_freq.plot(kind='bar', figsize=(14,4))\n",
    "\n",
    "# Missing data will be replaced by a different category in each variable\n",
    "# I haven't chosen to replace misssing by the mean/meadian of the variable, because in most cases, creating another category for the missing date has more 4explaining power.\n",
    "# Column 'o' has more than 50% of its observation missing, maybe its a good choice to remove from the model"
   ]
  },
  {
   "cell_type": "code",
   "execution_count": 19,
   "metadata": {},
   "outputs": [
    {
     "data": {
      "text/html": [
       "<div>\n",
       "<style scoped>\n",
       "    .dataframe tbody tr th:only-of-type {\n",
       "        vertical-align: middle;\n",
       "    }\n",
       "\n",
       "    .dataframe tbody tr th {\n",
       "        vertical-align: top;\n",
       "    }\n",
       "\n",
       "    .dataframe thead th {\n",
       "        text-align: right;\n",
       "    }\n",
       "</style>\n",
       "<table border=\"1\" class=\"dataframe\">\n",
       "  <thead>\n",
       "    <tr style=\"text-align: right;\">\n",
       "      <th></th>\n",
       "      <th>a</th>\n",
       "      <th>b</th>\n",
       "      <th>c</th>\n",
       "      <th>d</th>\n",
       "      <th>e</th>\n",
       "      <th>f</th>\n",
       "      <th>g</th>\n",
       "      <th>h</th>\n",
       "      <th>i</th>\n",
       "      <th>j</th>\n",
       "      <th>k</th>\n",
       "      <th>l</th>\n",
       "      <th>m</th>\n",
       "      <th>n</th>\n",
       "      <th>o</th>\n",
       "      <th>p</th>\n",
       "    </tr>\n",
       "  </thead>\n",
       "  <tbody>\n",
       "    <tr>\n",
       "      <th>0</th>\n",
       "      <td>4</td>\n",
       "      <td>0.7619</td>\n",
       "      <td>88723.38</td>\n",
       "      <td>2.0</td>\n",
       "      <td>0.161483</td>\n",
       "      <td>1.0</td>\n",
       "      <td>BR</td>\n",
       "      <td>16</td>\n",
       "      <td>Trava Tranca Eletrica Tampa Caçamba L200 Trito...</td>\n",
       "      <td>cat_d05132a</td>\n",
       "      <td>0.582140</td>\n",
       "      <td>643.0</td>\n",
       "      <td>191.0</td>\n",
       "      <td>0</td>\n",
       "      <td>-999</td>\n",
       "      <td>N</td>\n",
       "    </tr>\n",
       "    <tr>\n",
       "      <th>1</th>\n",
       "      <td>3</td>\n",
       "      <td>0.6320</td>\n",
       "      <td>2265.07</td>\n",
       "      <td>31.0</td>\n",
       "      <td>0.056948</td>\n",
       "      <td>14.0</td>\n",
       "      <td>AR</td>\n",
       "      <td>4</td>\n",
       "      <td>Mesa Comedor De Mármol Moderna De Diseño - Car...</td>\n",
       "      <td>cat_af842b7</td>\n",
       "      <td>0.023867</td>\n",
       "      <td>4871.0</td>\n",
       "      <td>134.0</td>\n",
       "      <td>1</td>\n",
       "      <td>-999</td>\n",
       "      <td>Y</td>\n",
       "    </tr>\n",
       "    <tr>\n",
       "      <th>2</th>\n",
       "      <td>4</td>\n",
       "      <td>0.8255</td>\n",
       "      <td>1272.96</td>\n",
       "      <td>29.0</td>\n",
       "      <td>0.000000</td>\n",
       "      <td>12.0</td>\n",
       "      <td>BR</td>\n",
       "      <td>22</td>\n",
       "      <td>Trocador Lençol Absorvente  Descartável Mili L...</td>\n",
       "      <td>cat_0722d79</td>\n",
       "      <td>0.473002</td>\n",
       "      <td>4882.0</td>\n",
       "      <td>37.0</td>\n",
       "      <td>1</td>\n",
       "      <td>-999</td>\n",
       "      <td>N</td>\n",
       "    </tr>\n",
       "    <tr>\n",
       "      <th>3</th>\n",
       "      <td>4</td>\n",
       "      <td>0.6513</td>\n",
       "      <td>24235.66</td>\n",
       "      <td>42.0</td>\n",
       "      <td>0.000000</td>\n",
       "      <td>1.0</td>\n",
       "      <td>BR</td>\n",
       "      <td>2</td>\n",
       "      <td>Tela Touch Frontal Display J4 Plus J4 Core J6 ...</td>\n",
       "      <td>cat_237e2d0</td>\n",
       "      <td>0.879633</td>\n",
       "      <td>409.0</td>\n",
       "      <td>142.0</td>\n",
       "      <td>1</td>\n",
       "      <td>N</td>\n",
       "      <td>Y</td>\n",
       "    </tr>\n",
       "    <tr>\n",
       "      <th>4</th>\n",
       "      <td>4</td>\n",
       "      <td>0.7636</td>\n",
       "      <td>78081.00</td>\n",
       "      <td>6.0</td>\n",
       "      <td>0.000000</td>\n",
       "      <td>0.0</td>\n",
       "      <td>BR</td>\n",
       "      <td>4</td>\n",
       "      <td>Kit Retrovisor Automotivo Lcd E Câmera De Ré C...</td>\n",
       "      <td>cat_f597e16</td>\n",
       "      <td>0.518003</td>\n",
       "      <td>29.0</td>\n",
       "      <td>15.0</td>\n",
       "      <td>0</td>\n",
       "      <td>-999</td>\n",
       "      <td>N</td>\n",
       "    </tr>\n",
       "  </tbody>\n",
       "</table>\n",
       "</div>"
      ],
      "text/plain": [
       "   a       b         c     d         e     f   g   h  \\\n",
       "0  4  0.7619  88723.38   2.0  0.161483   1.0  BR  16   \n",
       "1  3  0.6320   2265.07  31.0  0.056948  14.0  AR   4   \n",
       "2  4  0.8255   1272.96  29.0  0.000000  12.0  BR  22   \n",
       "3  4  0.6513  24235.66  42.0  0.000000   1.0  BR   2   \n",
       "4  4  0.7636  78081.00   6.0  0.000000   0.0  BR   4   \n",
       "\n",
       "                                                   i            j         k  \\\n",
       "0  Trava Tranca Eletrica Tampa Caçamba L200 Trito...  cat_d05132a  0.582140   \n",
       "1  Mesa Comedor De Mármol Moderna De Diseño - Car...  cat_af842b7  0.023867   \n",
       "2  Trocador Lençol Absorvente  Descartável Mili L...  cat_0722d79  0.473002   \n",
       "3  Tela Touch Frontal Display J4 Plus J4 Core J6 ...  cat_237e2d0  0.879633   \n",
       "4  Kit Retrovisor Automotivo Lcd E Câmera De Ré C...  cat_f597e16  0.518003   \n",
       "\n",
       "        l      m  n     o  p  \n",
       "0   643.0  191.0  0  -999  N  \n",
       "1  4871.0  134.0  1  -999  Y  \n",
       "2  4882.0   37.0  1  -999  N  \n",
       "3   409.0  142.0  1     N  Y  \n",
       "4    29.0   15.0  0  -999  N  "
      ]
     },
     "execution_count": 19,
     "metadata": {},
     "output_type": "execute_result"
    }
   ],
   "source": [
    "# replace missing data with -999 category\n",
    "X_train_OS = utils.replace_missing(X_train_OS)\n",
    "X_train_OS.head()"
   ]
  },
  {
   "cell_type": "code",
   "execution_count": 55,
   "metadata": {},
   "outputs": [
    {
     "data": {
      "image/png": "[encoded data removed]",
      "text/plain": [
       "<Figure size 1440x576 with 1 Axes>"
      ]
     },
     "metadata": {
      "needs_background": "light"
     },
     "output_type": "display_data"
    }
   ],
   "source": [
    "# Boxplot for numerical columns\n",
    "fig, ax = plt.subplots(figsize=(20,8))\n",
    "boxplot = sns.boxplot(data=X_train_OS)\n",
    "ax.set_xticklabels(ax.get_xticklabels(),rotation=90)\n",
    "\n",
    "plt.show()\n",
    "\n",
    "# columns 'c' has a lot of outliers \n",
    "# I will test some categorization for numeric data to get a better performance of the model and avoid noise, but maybe its a good choice to remove columns 'c' from de model."
   ]
  },
  {
   "cell_type": "code",
   "execution_count": 54,
   "metadata": {},
   "outputs": [
    {
     "name": "stdout",
     "output_type": "stream",
     "text": [
      "----------------------------------------\n",
      "g\n",
      "\n"
     ]
    },
    {
     "data": {
      "image/png": "[encoded data removed]",
      "text/plain": [
       "<Figure size 1008x288 with 1 Axes>"
      ]
     },
     "metadata": {
      "needs_background": "light"
     },
     "output_type": "display_data"
    },
    {
     "name": "stdout",
     "output_type": "stream",
     "text": [
      "----------------------------------------\n",
      "i\n",
      "\n",
      "i has more than 20 categories and will not be ploted\n",
      "----------------------------------------\n",
      "j\n",
      "\n",
      "j has more than 20 categories and will not be ploted\n",
      "----------------------------------------\n",
      "o\n",
      "\n"
     ]
    },
    {
     "data": {
      "image/png": "[encoded data removed]",
      "text/plain": [
       "<Figure size 1008x288 with 1 Axes>"
      ]
     },
     "metadata": {
      "needs_background": "light"
     },
     "output_type": "display_data"
    },
    {
     "name": "stdout",
     "output_type": "stream",
     "text": [
      "----------------------------------------\n",
      "p\n",
      "\n"
     ]
    },
    {
     "data": {
      "image/png": "[encoded data removed]",
      "text/plain": [
       "<Figure size 1008x288 with 1 Axes>"
      ]
     },
     "metadata": {
      "needs_background": "light"
     },
     "output_type": "display_data"
    }
   ],
   "source": [
    "for col in X_train_OS.columns:\n",
    "    if X_train_OS[col].dtype == 'O':\n",
    "        \n",
    "        print('-'*40)\n",
    "        print(col)\n",
    "        print()\n",
    "        \n",
    "        __QtdCat__ = len(X_train_OS[col].unique())\n",
    "\n",
    "        if __QtdCat__ <= 50:\n",
    "\n",
    "            gpd = X_train_OS.groupby(col).agg({col:'count'})\n",
    "            plot_gpd = gpd.plot(kind='bar', figsize=(14,4))\n",
    "            plt.show()\n",
    "\n",
    "        else:\n",
    "            print(col, 'has more than 20 categories and will not be ploted')\n",
    "\n",
    "    else:\n",
    "       pass"
   ]
  },
  {
   "cell_type": "code",
   "execution_count": null,
   "metadata": {},
   "outputs": [],
   "source": []
  },
  {
   "cell_type": "code",
   "execution_count": null,
   "metadata": {},
   "outputs": [],
   "source": []
  },
  {
   "cell_type": "code",
   "execution_count": null,
   "metadata": {},
   "outputs": [],
   "source": []
  },
  {
   "cell_type": "code",
   "execution_count": null,
   "metadata": {},
   "outputs": [],
   "source": []
  }
 ],
 "metadata": {
  "interpreter": {
   "hash": "01949654a3014922557ae41f9aee9c4d601d8b3929cfe0e8761b821ff60a5df4"
  },
  "kernelspec": {
   "display_name": "Python 3.9.9 64-bit ('venv': venv)",
   "language": "python",
   "name": "python3"
  },
  "language_info": {
   "codemirror_mode": {
    "name": "ipython",
    "version": 3
   },
   "file_extension": ".py",
   "mimetype": "text/x-python",
   "name": "python",
   "nbconvert_exporter": "python",
   "pygments_lexer": "ipython3",
   "version": "3.9.9"
  },
  "orig_nbformat": 4
 },
 "nbformat": 4,
 "nbformat_minor": 2
}
